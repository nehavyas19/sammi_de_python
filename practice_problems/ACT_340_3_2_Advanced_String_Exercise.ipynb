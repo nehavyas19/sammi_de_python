{
  "cells": [
    {
      "cell_type": "markdown",
      "metadata": {
        "id": "cUylAN2Ilryc"
      },
      "source": [
        "# String Excercises- Advanced\n",
        "\n",
        "Complete the following practice excercises below to build up your skills with manipulating strings."
      ]
    },
    {
      "cell_type": "markdown",
      "metadata": {
        "id": "27IbcjVcl6Bh"
      },
      "source": [
        "**Problem 1**\n",
        "\n",
        "Create a new string with the following sentence:\n",
        "\n",
        "“You learn more from failure than from success.\"\n",
        "<br></br>\n",
        "* Use the 1st, 4th, and last charachter to create a new string."
      ]
    },
    {
      "cell_type": "code",
      "execution_count": 6,
      "metadata": {
        "id": "Swq_joOAmZB2"
      },
      "outputs": [
        {
          "name": "stdout",
          "output_type": "stream",
          "text": [
            "Y .\n"
          ]
        }
      ],
      "source": [
        "str = \"You learn more from failure than from success.\"\n",
        "#new_str = str[0:4:3] + str[-1]\n",
        "new_str = str[0]+str[3]+str[-1]\n",
        "print(new_str)"
      ]
    },
    {
      "cell_type": "markdown",
      "metadata": {
        "id": "mGPUZkRTmoqN"
      },
      "source": [
        "**Problem 2**\n",
        "\n",
        "* Use the same string variable from above\n",
        "* Use the replace() method to replace the \".\" with an \"!\""
      ]
    },
    {
      "cell_type": "code",
      "execution_count": 7,
      "metadata": {
        "id": "Seg9HXsFnHn-"
      },
      "outputs": [
        {
          "name": "stdout",
          "output_type": "stream",
          "text": [
            "You learn more from failure than from success!\n"
          ]
        }
      ],
      "source": [
        "str = \"You learn more from failure than from success.\"\n",
        "print(str.replace(\".\",\"!\"))"
      ]
    },
    {
      "cell_type": "markdown",
      "metadata": {
        "id": "ZdxYpOtrnIz8"
      },
      "source": [
        "**Problem 3**\n",
        "\n",
        "*   Use the string variable below and create a new variable that has all of the charachters from the original string as lowercase charachters\n",
        "\n",
        "\n"
      ]
    },
    {
      "cell_type": "code",
      "execution_count": 8,
      "metadata": {
        "id": "fciZlwkwnjNb"
      },
      "outputs": [
        {
          "data": {
            "text/plain": [
              "'“when you change your thoughts, remember to also change your world.”'"
            ]
          },
          "execution_count": 8,
          "metadata": {},
          "output_type": "execute_result"
        }
      ],
      "source": [
        "new_str= \"“WHEN YOU Change your thougHts, remember to ALSO change your world.”\"\n",
        "new_str.lower()"
      ]
    },
    {
      "cell_type": "markdown",
      "metadata": {
        "id": "cip5r4CRn3G4"
      },
      "source": [
        "**Problem 4**\n",
        "\n",
        "\n",
        "*   Take the new_str variable from above and make all of charachters uppercase\n",
        "\n",
        "\n"
      ]
    },
    {
      "cell_type": "code",
      "execution_count": 9,
      "metadata": {
        "id": "nFnFU3-ooHvA"
      },
      "outputs": [
        {
          "data": {
            "text/plain": [
              "'“WHEN YOU CHANGE YOUR THOUGHTS, REMEMBER TO ALSO CHANGE YOUR WORLD.”'"
            ]
          },
          "execution_count": 9,
          "metadata": {},
          "output_type": "execute_result"
        }
      ],
      "source": [
        "new_str= \"“WHEN YOU Change your thougHts, remember to ALSO change your world.”\"\n",
        "new_str.upper()"
      ]
    },
    {
      "cell_type": "markdown",
      "metadata": {
        "id": "HzCVplcwoPxU"
      },
      "source": [
        "**Problem 5**\n",
        "\n",
        "* Use the string variable below and the startswith() method to check and see if the string starts with the charachter \"Z\".\n",
        "* Check if it starts with the charachter \"t\"\n"
      ]
    },
    {
      "cell_type": "code",
      "execution_count": 12,
      "metadata": {
        "id": "1TAzCILcovZk"
      },
      "outputs": [
        {
          "name": "stdout",
          "output_type": "stream",
          "text": [
            "False\n",
            "False\n"
          ]
        }
      ],
      "source": [
        "new_str= \"There are no traffic jams along the extra mile.\"\n",
        "print(new_str.startswith('Z'))\n",
        "print(new_str.startswith('t'))"
      ]
    },
    {
      "cell_type": "markdown",
      "metadata": {
        "id": "U5iHAc6MoubS"
      },
      "source": [
        "**Problem 6**\n",
        "\n",
        "\n",
        "\n",
        "*   Use the same new_str variable and the index() method to identify the index of charachter \"j\"\n",
        "\n",
        "\n"
      ]
    },
    {
      "cell_type": "code",
      "execution_count": 19,
      "metadata": {
        "id": "w3MhXXFxpTil"
      },
      "outputs": [
        {
          "name": "stdout",
          "output_type": "stream",
          "text": [
            "21\n",
            "21\n"
          ]
        }
      ],
      "source": [
        "new_str= \"There are no traffic jams along the extra mile.\"\n",
        "print(new_str.index('j'))\n",
        "print(new_str.find('j'))"
      ]
    },
    {
      "cell_type": "markdown",
      "metadata": {
        "id": "63odwi1_pU-h"
      },
      "source": [
        "**Problem 7**\n",
        "\n",
        "*   Use the same new_str variable\n",
        "*   Use the count() method to find the number of times \"t\" and \"o\" appear in a string\n",
        "* Create a print statement that has both results in one statement. You can use string concatenation, fstring, or any other way you can think of!\n",
        "\n"
      ]
    },
    {
      "cell_type": "code",
      "execution_count": 32,
      "metadata": {
        "id": "2okBBd33p6O-"
      },
      "outputs": [
        {
          "name": "stdout",
          "output_type": "stream",
          "text": [
            "Count of t: 3 count of o:2\n"
          ]
        }
      ],
      "source": [
        "new_str= \"There are no traffic jams along the extra mile.\"\n",
        "find_t = new_str.count('t')\n",
        "find_o = new_str.count('o')\n",
        "print(f\"Count of t: {find_t} count of o:{find_o}\")"
      ]
    },
    {
      "cell_type": "markdown",
      "metadata": {
        "id": "u1UpWwGjp_qu"
      },
      "source": [
        "**Problem 8**\n",
        "\n",
        "* Using the string below, find the length of the given string."
      ]
    },
    {
      "cell_type": "code",
      "execution_count": 25,
      "metadata": {
        "id": "SAErNiQXqNiq"
      },
      "outputs": [
        {
          "name": "stdout",
          "output_type": "stream",
          "text": [
            "13\n"
          ]
        }
      ],
      "source": [
        "greeting= \"Good Morning!\"\n",
        "print(len(greeting))"
      ]
    },
    {
      "cell_type": "markdown",
      "metadata": {
        "id": "PlVi5hw8q6ha"
      },
      "source": [
        "**Problem 9**\n",
        "\n",
        "\n",
        "\n",
        "*   Use the string below, and documentation on string methods to find if all the charachters in a string are alpha charachters.\n",
        "\n"
      ]
    },
    {
      "cell_type": "code",
      "execution_count": 28,
      "metadata": {
        "id": "jBsKOU-drQdV"
      },
      "outputs": [
        {
          "name": "stdout",
          "output_type": "stream",
          "text": [
            "True\n"
          ]
        }
      ],
      "source": [
        "alphabet= \"abcdefghijklmnopqrstuvwxyz\"\n",
        "print(alphabet.isalpha())"
      ]
    },
    {
      "cell_type": "markdown",
      "metadata": {
        "id": "34l2TSFMrYvv"
      },
      "source": [
        "**Problem 10**\n",
        "\n",
        "Use the string below to complete the following:\n",
        "\n",
        "\n",
        "*   Use the find() method for the value \"y\"\n",
        "*   Use the index() method for the value \"y\"\n",
        "*  Create a comment explaining the difference between the two methods\n",
        "\n",
        "\n",
        "\n"
      ]
    },
    {
      "cell_type": "code",
      "execution_count": 31,
      "metadata": {
        "id": "8ki6bRY-sHBf"
      },
      "outputs": [
        {
          "name": "stdout",
          "output_type": "stream",
          "text": [
            "-1\n"
          ]
        }
      ],
      "source": [
        "learning= \"Learning is fun!\"\n",
        "print(learning.find('y'))\n",
        "#print(learning.index('y'))\n",
        "#If index is not found then find does not give error but index gives ValueError"
      ]
    }
  ],
  "metadata": {
    "colab": {
      "provenance": []
    },
    "kernelspec": {
      "display_name": "Python 3",
      "name": "python3"
    },
    "language_info": {
      "codemirror_mode": {
        "name": "ipython",
        "version": 3
      },
      "file_extension": ".py",
      "mimetype": "text/x-python",
      "name": "python",
      "nbconvert_exporter": "python",
      "pygments_lexer": "ipython3",
      "version": "3.10.7"
    }
  },
  "nbformat": 4,
  "nbformat_minor": 0
}
